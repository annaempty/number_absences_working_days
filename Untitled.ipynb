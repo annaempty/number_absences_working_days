{
 "cells": [
  {
   "cell_type": "code",
   "execution_count": 1,
   "id": "f65ff348",
   "metadata": {},
   "outputs": [],
   "source": [
    "import pandas as pd \n",
    "import numpy as np\n",
    "from datetime import timedelta\n",
    "from datetime import datetime as dt\n",
    "from datetime import date, timedelta"
   ]
  },
  {
   "cell_type": "markdown",
   "id": "601e1332",
   "metadata": {},
   "source": [
    "### Этап 1\n",
    "Предварительная обработка данных (изменить типы данных, убрать некорректно считанные данные)  \n",
    "Исследование "
   ]
  },
  {
   "cell_type": "code",
   "execution_count": 2,
   "id": "2843bc37",
   "metadata": {},
   "outputs": [],
   "source": [
    "# Считать данные\n",
    "df = pd.read_excel(\"number_absences_working_days.xlsx\")"
   ]
  },
  {
   "cell_type": "code",
   "execution_count": 3,
   "id": "a01827eb",
   "metadata": {},
   "outputs": [],
   "source": [
    "# Переименовать столбцы \n",
    "df.columns = ['id', 'type_holiday', 'start', 'end']"
   ]
  },
  {
   "cell_type": "code",
   "execution_count": 4,
   "id": "f59aadd3",
   "metadata": {},
   "outputs": [],
   "source": [
    "# Очистить данные от лишних строк\n",
    "df = df.dropna()\n",
    "df = df.drop (index=df.query(\"id == 'Табельный номер'\").index)"
   ]
  },
  {
   "cell_type": "code",
   "execution_count": 5,
   "id": "e348d316",
   "metadata": {},
   "outputs": [],
   "source": [
    "# Приведение типов данных\n",
    "df.start = pd.to_datetime(df.start)\n",
    "df.end = pd.to_datetime(df.end)\n",
    "df.id = df.id.astype(int)"
   ]
  },
  {
   "cell_type": "code",
   "execution_count": 6,
   "id": "6663301f",
   "metadata": {},
   "outputs": [
    {
     "name": "stdout",
     "output_type": "stream",
     "text": [
      "<class 'pandas.core.frame.DataFrame'>\n",
      "Index: 6573 entries, 2 to 6574\n",
      "Data columns (total 4 columns):\n",
      " #   Column        Non-Null Count  Dtype         \n",
      "---  ------        --------------  -----         \n",
      " 0   id            6573 non-null   int64         \n",
      " 1   type_holiday  6573 non-null   object        \n",
      " 2   start         6573 non-null   datetime64[ns]\n",
      " 3   end           6573 non-null   datetime64[ns]\n",
      "dtypes: datetime64[ns](2), int64(1), object(1)\n",
      "memory usage: 256.8+ KB\n"
     ]
    }
   ],
   "source": [
    "df.info()"
   ]
  },
  {
   "cell_type": "code",
   "execution_count": 7,
   "id": "58b69402",
   "metadata": {},
   "outputs": [
    {
     "data": {
      "text/html": [
       "<div>\n",
       "<style scoped>\n",
       "    .dataframe tbody tr th:only-of-type {\n",
       "        vertical-align: middle;\n",
       "    }\n",
       "\n",
       "    .dataframe tbody tr th {\n",
       "        vertical-align: top;\n",
       "    }\n",
       "\n",
       "    .dataframe thead th {\n",
       "        text-align: right;\n",
       "    }\n",
       "</style>\n",
       "<table border=\"1\" class=\"dataframe\">\n",
       "  <thead>\n",
       "    <tr style=\"text-align: right;\">\n",
       "      <th></th>\n",
       "      <th>type_holiday</th>\n",
       "      <th>start</th>\n",
       "    </tr>\n",
       "  </thead>\n",
       "  <tbody>\n",
       "    <tr>\n",
       "      <th>0</th>\n",
       "      <td>Б_Нетруд_МРОТ</td>\n",
       "      <td>6</td>\n",
       "    </tr>\n",
       "    <tr>\n",
       "      <th>1</th>\n",
       "      <td>Б_Нетруд_инвалид</td>\n",
       "      <td>8</td>\n",
       "    </tr>\n",
       "    <tr>\n",
       "      <th>2</th>\n",
       "      <td>Б_Нетруд_инвалид_особ.</td>\n",
       "      <td>1</td>\n",
       "    </tr>\n",
       "    <tr>\n",
       "      <th>3</th>\n",
       "      <td>Б_Нетруд_неоплач.</td>\n",
       "      <td>2</td>\n",
       "    </tr>\n",
       "    <tr>\n",
       "      <th>4</th>\n",
       "      <td>Б_Нетруд_по сроч.договору</td>\n",
       "      <td>1</td>\n",
       "    </tr>\n",
       "  </tbody>\n",
       "</table>\n",
       "</div>"
      ],
      "text/plain": [
       "                type_holiday  start\n",
       "0              Б_Нетруд_МРОТ      6\n",
       "1           Б_Нетруд_инвалид      8\n",
       "2     Б_Нетруд_инвалид_особ.      1\n",
       "3          Б_Нетруд_неоплач.      2\n",
       "4  Б_Нетруд_по сроч.договору      1"
      ]
     },
     "execution_count": 7,
     "metadata": {},
     "output_type": "execute_result"
    }
   ],
   "source": [
    "df.groupby('type_holiday', as_index=False)\\\n",
    "    .agg({'start':'count'}).head()"
   ]
  },
  {
   "cell_type": "markdown",
   "id": "9ec60875",
   "metadata": {},
   "source": [
    "Буду считать, что 1 запись в type_holiday - это 1 тип отсутствия "
   ]
  },
  {
   "cell_type": "markdown",
   "id": "6ca98424-6e3e-4cc0-96a7-cf7424f2fe9c",
   "metadata": {},
   "source": [
    "### Этап 2 \n",
    "Считать данные из файла\n",
    "Отобрать необходимые значения по датам\n",
    "Отобрать необходимые значения по типам отпусков"
   ]
  },
  {
   "cell_type": "code",
   "execution_count": 8,
   "id": "4e4c127c",
   "metadata": {},
   "outputs": [
    {
     "data": {
      "text/html": [
       "<div>\n",
       "<style scoped>\n",
       "    .dataframe tbody tr th:only-of-type {\n",
       "        vertical-align: middle;\n",
       "    }\n",
       "\n",
       "    .dataframe tbody tr th {\n",
       "        vertical-align: top;\n",
       "    }\n",
       "\n",
       "    .dataframe thead th {\n",
       "        text-align: right;\n",
       "    }\n",
       "</style>\n",
       "<table border=\"1\" class=\"dataframe\">\n",
       "  <thead>\n",
       "    <tr style=\"text-align: right;\">\n",
       "      <th></th>\n",
       "      <th>id</th>\n",
       "      <th>type_holiday</th>\n",
       "      <th>start</th>\n",
       "      <th>end</th>\n",
       "    </tr>\n",
       "  </thead>\n",
       "  <tbody>\n",
       "    <tr>\n",
       "      <th>2</th>\n",
       "      <td>1</td>\n",
       "      <td>ОТ+ОД_Отпуск_опл.осн.+доп</td>\n",
       "      <td>2024-05-13</td>\n",
       "      <td>2024-05-19</td>\n",
       "    </tr>\n",
       "    <tr>\n",
       "      <th>3</th>\n",
       "      <td>2</td>\n",
       "      <td>ОВ_ Дни ухода_реб.-инв.</td>\n",
       "      <td>2024-05-24</td>\n",
       "      <td>2024-05-24</td>\n",
       "    </tr>\n",
       "    <tr>\n",
       "      <th>4</th>\n",
       "      <td>2</td>\n",
       "      <td>ОВ_ Дни ухода_реб.-инв.</td>\n",
       "      <td>2024-05-29</td>\n",
       "      <td>2024-05-29</td>\n",
       "    </tr>\n",
       "    <tr>\n",
       "      <th>5</th>\n",
       "      <td>3</td>\n",
       "      <td>ОТ+ОД_Отпуск_опл.осн.+доп</td>\n",
       "      <td>2024-05-06</td>\n",
       "      <td>2024-05-08</td>\n",
       "    </tr>\n",
       "    <tr>\n",
       "      <th>6</th>\n",
       "      <td>4</td>\n",
       "      <td>ОТ+ОД_Отпуск_опл.осн.+доп</td>\n",
       "      <td>2024-05-21</td>\n",
       "      <td>2024-05-21</td>\n",
       "    </tr>\n",
       "    <tr>\n",
       "      <th>...</th>\n",
       "      <td>...</td>\n",
       "      <td>...</td>\n",
       "      <td>...</td>\n",
       "      <td>...</td>\n",
       "    </tr>\n",
       "    <tr>\n",
       "      <th>6570</th>\n",
       "      <td>4110</td>\n",
       "      <td>К_Служ. командировка</td>\n",
       "      <td>2024-05-23</td>\n",
       "      <td>2024-05-23</td>\n",
       "    </tr>\n",
       "    <tr>\n",
       "      <th>6571</th>\n",
       "      <td>4110</td>\n",
       "      <td>К_Служ. командировка</td>\n",
       "      <td>2024-05-29</td>\n",
       "      <td>2024-05-30</td>\n",
       "    </tr>\n",
       "    <tr>\n",
       "      <th>6572</th>\n",
       "      <td>4110</td>\n",
       "      <td>К_Служ. командировка</td>\n",
       "      <td>2024-05-22</td>\n",
       "      <td>2024-05-23</td>\n",
       "    </tr>\n",
       "    <tr>\n",
       "      <th>6573</th>\n",
       "      <td>4111</td>\n",
       "      <td>ДО_Неоп.отп._согл.работод</td>\n",
       "      <td>2024-05-27</td>\n",
       "      <td>2024-05-27</td>\n",
       "    </tr>\n",
       "    <tr>\n",
       "      <th>6574</th>\n",
       "      <td>4112</td>\n",
       "      <td>Б_Нетруд_работник</td>\n",
       "      <td>2024-05-27</td>\n",
       "      <td>2024-05-27</td>\n",
       "    </tr>\n",
       "  </tbody>\n",
       "</table>\n",
       "<p>6573 rows × 4 columns</p>\n",
       "</div>"
      ],
      "text/plain": [
       "        id               type_holiday      start        end\n",
       "2        1  ОТ+ОД_Отпуск_опл.осн.+доп 2024-05-13 2024-05-19\n",
       "3        2    ОВ_ Дни ухода_реб.-инв. 2024-05-24 2024-05-24\n",
       "4        2    ОВ_ Дни ухода_реб.-инв. 2024-05-29 2024-05-29\n",
       "5        3  ОТ+ОД_Отпуск_опл.осн.+доп 2024-05-06 2024-05-08\n",
       "6        4  ОТ+ОД_Отпуск_опл.осн.+доп 2024-05-21 2024-05-21\n",
       "...    ...                        ...        ...        ...\n",
       "6570  4110       К_Служ. командировка 2024-05-23 2024-05-23\n",
       "6571  4110       К_Служ. командировка 2024-05-29 2024-05-30\n",
       "6572  4110       К_Служ. командировка 2024-05-22 2024-05-23\n",
       "6573  4111  ДО_Неоп.отп._согл.работод 2024-05-27 2024-05-27\n",
       "6574  4112          Б_Нетруд_работник 2024-05-27 2024-05-27\n",
       "\n",
       "[6573 rows x 4 columns]"
      ]
     },
     "execution_count": 8,
     "metadata": {},
     "output_type": "execute_result"
    }
   ],
   "source": [
    "df "
   ]
  },
  {
   "cell_type": "code",
   "execution_count": 9,
   "id": "49d569c5",
   "metadata": {},
   "outputs": [
    {
     "data": {
      "text/plain": [
       "Timestamp('2022-09-28 00:00:00')"
      ]
     },
     "execution_count": 9,
     "metadata": {},
     "output_type": "execute_result"
    }
   ],
   "source": [
    "df.start.min()"
   ]
  },
  {
   "cell_type": "code",
   "execution_count": 10,
   "id": "fcd3aa99",
   "metadata": {},
   "outputs": [],
   "source": [
    "with open(\"conditions.txt\", \"r\", encoding=\"utf-8\") as file:\n",
    "    # итерация по строкам\n",
    "    lines = [line.rstrip() for line in file]"
   ]
  },
  {
   "cell_type": "code",
   "execution_count": 11,
   "id": "bd501e31",
   "metadata": {},
   "outputs": [],
   "source": [
    "date_from = dt.strptime(lines[lines.index(\"от:\") + 1], '%d.%m.%Y')\n",
    "date_to = dt.strptime(lines[lines.index(\"до:\") + 1], '%d.%m.%Y')"
   ]
  },
  {
   "cell_type": "code",
   "execution_count": 12,
   "id": "bc5272ce",
   "metadata": {},
   "outputs": [],
   "source": [
    "df = df.query(f\"start >= '{date_from}' and start <= '{date_to}'\")"
   ]
  },
  {
   "cell_type": "code",
   "execution_count": 17,
   "id": "afe9db8d",
   "metadata": {},
   "outputs": [
    {
     "name": "stderr",
     "output_type": "stream",
     "text": [
      "/var/folders/0m/1wzwyty959g5m50hvj1ddmk80000gp/T/ipykernel_36144/2100413976.py:1: SettingWithCopyWarning: \n",
      "A value is trying to be set on a copy of a slice from a DataFrame.\n",
      "Try using .loc[row_indexer,col_indexer] = value instead\n",
      "\n",
      "See the caveats in the documentation: https://pandas.pydata.org/pandas-docs/stable/user_guide/indexing.html#returning-a-view-versus-a-copy\n",
      "  df['days'] = df.end - df.start + timedelta(days=1)\n"
     ]
    }
   ],
   "source": [
    "df['days'] = df.end - df.start + timedelta(days=1)"
   ]
  },
  {
   "cell_type": "code",
   "execution_count": 18,
   "id": "edc0fe66",
   "metadata": {},
   "outputs": [
    {
     "name": "stderr",
     "output_type": "stream",
     "text": [
      "/var/folders/0m/1wzwyty959g5m50hvj1ddmk80000gp/T/ipykernel_36144/1056382233.py:7: SettingWithCopyWarning: \n",
      "A value is trying to be set on a copy of a slice from a DataFrame.\n",
      "Try using .loc[row_indexer,col_indexer] = value instead\n",
      "\n",
      "See the caveats in the documentation: https://pandas.pydata.org/pandas-docs/stable/user_guide/indexing.html#returning-a-view-versus-a-copy\n",
      "  df['work_days'] = df.apply(count_weekdays, axis=1)\n"
     ]
    }
   ],
   "source": [
    "def count_weekdays(row):\n",
    "    start = row['start'].date()\n",
    "    end = row['end'].date() + timedelta(days=1)\n",
    "    work_days = np.busday_count(start, end)\n",
    "    return work_days\n",
    "\n",
    "df['work_days'] = df.apply(count_weekdays, axis=1)"
   ]
  },
  {
   "cell_type": "code",
   "execution_count": 19,
   "id": "0d03b1d6",
   "metadata": {},
   "outputs": [
    {
     "data": {
      "text/html": [
       "<div>\n",
       "<style scoped>\n",
       "    .dataframe tbody tr th:only-of-type {\n",
       "        vertical-align: middle;\n",
       "    }\n",
       "\n",
       "    .dataframe tbody tr th {\n",
       "        vertical-align: top;\n",
       "    }\n",
       "\n",
       "    .dataframe thead th {\n",
       "        text-align: right;\n",
       "    }\n",
       "</style>\n",
       "<table border=\"1\" class=\"dataframe\">\n",
       "  <thead>\n",
       "    <tr style=\"text-align: right;\">\n",
       "      <th></th>\n",
       "      <th>id</th>\n",
       "      <th>type_holiday</th>\n",
       "      <th>start</th>\n",
       "      <th>end</th>\n",
       "      <th>days</th>\n",
       "      <th>work_days</th>\n",
       "    </tr>\n",
       "  </thead>\n",
       "  <tbody>\n",
       "    <tr>\n",
       "      <th>2</th>\n",
       "      <td>1</td>\n",
       "      <td>ОТ+ОД_Отпуск_опл.осн.+доп</td>\n",
       "      <td>2024-05-13</td>\n",
       "      <td>2024-05-19</td>\n",
       "      <td>7 days</td>\n",
       "      <td>5</td>\n",
       "    </tr>\n",
       "    <tr>\n",
       "      <th>3</th>\n",
       "      <td>2</td>\n",
       "      <td>ОВ_ Дни ухода_реб.-инв.</td>\n",
       "      <td>2024-05-24</td>\n",
       "      <td>2024-05-24</td>\n",
       "      <td>1 days</td>\n",
       "      <td>1</td>\n",
       "    </tr>\n",
       "    <tr>\n",
       "      <th>4</th>\n",
       "      <td>2</td>\n",
       "      <td>ОВ_ Дни ухода_реб.-инв.</td>\n",
       "      <td>2024-05-29</td>\n",
       "      <td>2024-05-29</td>\n",
       "      <td>1 days</td>\n",
       "      <td>1</td>\n",
       "    </tr>\n",
       "    <tr>\n",
       "      <th>5</th>\n",
       "      <td>3</td>\n",
       "      <td>ОТ+ОД_Отпуск_опл.осн.+доп</td>\n",
       "      <td>2024-05-06</td>\n",
       "      <td>2024-05-08</td>\n",
       "      <td>3 days</td>\n",
       "      <td>3</td>\n",
       "    </tr>\n",
       "    <tr>\n",
       "      <th>6</th>\n",
       "      <td>4</td>\n",
       "      <td>ОТ+ОД_Отпуск_опл.осн.+доп</td>\n",
       "      <td>2024-05-21</td>\n",
       "      <td>2024-05-21</td>\n",
       "      <td>1 days</td>\n",
       "      <td>1</td>\n",
       "    </tr>\n",
       "    <tr>\n",
       "      <th>...</th>\n",
       "      <td>...</td>\n",
       "      <td>...</td>\n",
       "      <td>...</td>\n",
       "      <td>...</td>\n",
       "      <td>...</td>\n",
       "      <td>...</td>\n",
       "    </tr>\n",
       "    <tr>\n",
       "      <th>6570</th>\n",
       "      <td>4110</td>\n",
       "      <td>К_Служ. командировка</td>\n",
       "      <td>2024-05-23</td>\n",
       "      <td>2024-05-23</td>\n",
       "      <td>1 days</td>\n",
       "      <td>1</td>\n",
       "    </tr>\n",
       "    <tr>\n",
       "      <th>6571</th>\n",
       "      <td>4110</td>\n",
       "      <td>К_Служ. командировка</td>\n",
       "      <td>2024-05-29</td>\n",
       "      <td>2024-05-30</td>\n",
       "      <td>2 days</td>\n",
       "      <td>2</td>\n",
       "    </tr>\n",
       "    <tr>\n",
       "      <th>6572</th>\n",
       "      <td>4110</td>\n",
       "      <td>К_Служ. командировка</td>\n",
       "      <td>2024-05-22</td>\n",
       "      <td>2024-05-23</td>\n",
       "      <td>2 days</td>\n",
       "      <td>2</td>\n",
       "    </tr>\n",
       "    <tr>\n",
       "      <th>6573</th>\n",
       "      <td>4111</td>\n",
       "      <td>ДО_Неоп.отп._согл.работод</td>\n",
       "      <td>2024-05-27</td>\n",
       "      <td>2024-05-27</td>\n",
       "      <td>1 days</td>\n",
       "      <td>1</td>\n",
       "    </tr>\n",
       "    <tr>\n",
       "      <th>6574</th>\n",
       "      <td>4112</td>\n",
       "      <td>Б_Нетруд_работник</td>\n",
       "      <td>2024-05-27</td>\n",
       "      <td>2024-05-27</td>\n",
       "      <td>1 days</td>\n",
       "      <td>1</td>\n",
       "    </tr>\n",
       "  </tbody>\n",
       "</table>\n",
       "<p>6397 rows × 6 columns</p>\n",
       "</div>"
      ],
      "text/plain": [
       "        id               type_holiday      start        end   days  work_days\n",
       "2        1  ОТ+ОД_Отпуск_опл.осн.+доп 2024-05-13 2024-05-19 7 days          5\n",
       "3        2    ОВ_ Дни ухода_реб.-инв. 2024-05-24 2024-05-24 1 days          1\n",
       "4        2    ОВ_ Дни ухода_реб.-инв. 2024-05-29 2024-05-29 1 days          1\n",
       "5        3  ОТ+ОД_Отпуск_опл.осн.+доп 2024-05-06 2024-05-08 3 days          3\n",
       "6        4  ОТ+ОД_Отпуск_опл.осн.+доп 2024-05-21 2024-05-21 1 days          1\n",
       "...    ...                        ...        ...        ...    ...        ...\n",
       "6570  4110       К_Служ. командировка 2024-05-23 2024-05-23 1 days          1\n",
       "6571  4110       К_Служ. командировка 2024-05-29 2024-05-30 2 days          2\n",
       "6572  4110       К_Служ. командировка 2024-05-22 2024-05-23 2 days          2\n",
       "6573  4111  ДО_Неоп.отп._согл.работод 2024-05-27 2024-05-27 1 days          1\n",
       "6574  4112          Б_Нетруд_работник 2024-05-27 2024-05-27 1 days          1\n",
       "\n",
       "[6397 rows x 6 columns]"
      ]
     },
     "execution_count": 19,
     "metadata": {},
     "output_type": "execute_result"
    }
   ],
   "source": [
    "df"
   ]
  },
  {
   "cell_type": "code",
   "execution_count": 23,
   "id": "120fedb2",
   "metadata": {},
   "outputs": [
    {
     "data": {
      "text/html": [
       "<div>\n",
       "<style scoped>\n",
       "    .dataframe tbody tr th:only-of-type {\n",
       "        vertical-align: middle;\n",
       "    }\n",
       "\n",
       "    .dataframe tbody tr th {\n",
       "        vertical-align: top;\n",
       "    }\n",
       "\n",
       "    .dataframe thead th {\n",
       "        text-align: right;\n",
       "    }\n",
       "</style>\n",
       "<table border=\"1\" class=\"dataframe\">\n",
       "  <thead>\n",
       "    <tr style=\"text-align: right;\">\n",
       "      <th></th>\n",
       "      <th>id</th>\n",
       "      <th>work_days</th>\n",
       "    </tr>\n",
       "  </thead>\n",
       "  <tbody>\n",
       "    <tr>\n",
       "      <th>345</th>\n",
       "      <td>348</td>\n",
       "      <td>36</td>\n",
       "    </tr>\n",
       "    <tr>\n",
       "      <th>1195</th>\n",
       "      <td>1217</td>\n",
       "      <td>35</td>\n",
       "    </tr>\n",
       "    <tr>\n",
       "      <th>3969</th>\n",
       "      <td>4055</td>\n",
       "      <td>31</td>\n",
       "    </tr>\n",
       "    <tr>\n",
       "      <th>374</th>\n",
       "      <td>377</td>\n",
       "      <td>25</td>\n",
       "    </tr>\n",
       "    <tr>\n",
       "      <th>305</th>\n",
       "      <td>307</td>\n",
       "      <td>25</td>\n",
       "    </tr>\n",
       "    <tr>\n",
       "      <th>...</th>\n",
       "      <td>...</td>\n",
       "      <td>...</td>\n",
       "    </tr>\n",
       "    <tr>\n",
       "      <th>1734</th>\n",
       "      <td>1767</td>\n",
       "      <td>1</td>\n",
       "    </tr>\n",
       "    <tr>\n",
       "      <th>3993</th>\n",
       "      <td>4079</td>\n",
       "      <td>1</td>\n",
       "    </tr>\n",
       "    <tr>\n",
       "      <th>3980</th>\n",
       "      <td>4066</td>\n",
       "      <td>1</td>\n",
       "    </tr>\n",
       "    <tr>\n",
       "      <th>3982</th>\n",
       "      <td>4068</td>\n",
       "      <td>1</td>\n",
       "    </tr>\n",
       "    <tr>\n",
       "      <th>3984</th>\n",
       "      <td>4070</td>\n",
       "      <td>1</td>\n",
       "    </tr>\n",
       "  </tbody>\n",
       "</table>\n",
       "<p>4027 rows × 2 columns</p>\n",
       "</div>"
      ],
      "text/plain": [
       "        id  work_days\n",
       "345    348         36\n",
       "1195  1217         35\n",
       "3969  4055         31\n",
       "374    377         25\n",
       "305    307         25\n",
       "...    ...        ...\n",
       "1734  1767          1\n",
       "3993  4079          1\n",
       "3980  4066          1\n",
       "3982  4068          1\n",
       "3984  4070          1\n",
       "\n",
       "[4027 rows x 2 columns]"
      ]
     },
     "execution_count": 23,
     "metadata": {},
     "output_type": "execute_result"
    }
   ],
   "source": [
    "df.groupby('id', as_index=False)\\\n",
    "    .agg({'work_days':'sum'})\\\n",
    "    .sort_values('work_days', ascending=False)"
   ]
  },
  {
   "cell_type": "code",
   "execution_count": null,
   "id": "29a25a66-165e-4de5-b4ca-f58007488fbe",
   "metadata": {},
   "outputs": [],
   "source": []
  },
  {
   "cell_type": "code",
   "execution_count": null,
   "id": "21881e49-a3fa-461c-a53c-b41c1d83d20b",
   "metadata": {},
   "outputs": [],
   "source": []
  }
 ],
 "metadata": {
  "kernelspec": {
   "display_name": "Python 3 (ipykernel)",
   "language": "python",
   "name": "python3"
  },
  "language_info": {
   "codemirror_mode": {
    "name": "ipython",
    "version": 3
   },
   "file_extension": ".py",
   "mimetype": "text/x-python",
   "name": "python",
   "nbconvert_exporter": "python",
   "pygments_lexer": "ipython3",
   "version": "3.11.6"
  }
 },
 "nbformat": 4,
 "nbformat_minor": 5
}
