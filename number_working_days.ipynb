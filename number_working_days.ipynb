{
 "cells": [
  {
   "cell_type": "code",
   "execution_count": 30,
   "id": "f65ff348",
   "metadata": {},
   "outputs": [],
   "source": [
    "import pandas as pd \n",
    "import numpy as np\n",
    "from datetime import timedelta\n",
    "from datetime import datetime as dt\n",
    "from datetime import date, timedelta\n",
    "\n",
    "from functools import partial"
   ]
  },
  {
   "cell_type": "code",
   "execution_count": 31,
   "id": "4d3d76f8-6519-47b8-b2f6-5b6eb2924396",
   "metadata": {},
   "outputs": [],
   "source": [
    "def read_process_data(path):\n",
    "    \"\"\"\n",
    "    path: путь к файлу с данными\n",
    "    return: предобработанные данные\n",
    "    \"\"\"\n",
    "    df = pd.read_excel(path)\n",
    "    df.columns = ['id', 'type_holiday', 'start', 'end'] # Изменяю названия колонки\n",
    "    df = df.dropna() # Убираю пропущенные значения\n",
    "    df = df.drop (index=df.query(\"id == 'Табельный номер'\").index) # Убираю прошлый заголовок\n",
    "    # Приведение типов данных\n",
    "    df.start = pd.to_datetime(df.start)\n",
    "    df.end = pd.to_datetime(df.end)\n",
    "    df.id = df.id.astype(int)\n",
    "    return df"
   ]
  },
  {
   "cell_type": "code",
   "execution_count": 32,
   "id": "1591a860-66ef-4a8c-aedb-374da884b460",
   "metadata": {},
   "outputs": [],
   "source": [
    "def count_weekdays(row):\n",
    "    \"\"\"\n",
    "    row: считанная строка\n",
    "    \"\"\"\n",
    "    start = row['start'].date()\n",
    "    end = row['end'].date() + timedelta(days=1)\n",
    "    work_days = np.busday_count(start, end)\n",
    "    return work_days"
   ]
  },
  {
   "cell_type": "code",
   "execution_count": 33,
   "id": "4a305fc6-750d-48af-96eb-ef8747368dca",
   "metadata": {},
   "outputs": [],
   "source": [
    "def find_necessary_data(path_conditions, df):\n",
    "    \"\"\"\n",
    "    Считать данные из файла  \n",
    "    Отобрать необходимые значения по типам отпусков\n",
    "    Сделать срез по датам\n",
    "    path_conditions: путь до файла с даными о периоде и типов отпусков, \n",
    "    которые нужно исключить\n",
    "    df: предобработанный датафрейм\n",
    "    \"\"\"\n",
    "    with open(\"conditions.txt\", \"r\", encoding=\"utf-8\") as file:\n",
    "        lines = [line.strip() for line in file] # итерация по строкам и их запись\n",
    "    # Поиск необходимых данных из файла conditions.txt\n",
    "    list_exceptions = lines[lines.index(\"Исключить:\") + 1:]\n",
    "    date_from = dt.strptime(lines[lines.index(\"от:\") + 1], '%d.%m.%Y')\n",
    "    date_to = dt.strptime(lines[lines.index(\"до:\") + 1], '%d.%m.%Y')\n",
    "    # Убираю из файла ненужные строчки по типам отпусков\n",
    "    df = df[ ~ df.type_holiday.isin (list_exceptions)]\n",
    "    # Срез по датам\n",
    "    df = df.query(f\"start >= '{date_from}' and start <= '{date_to}'\")\n",
    "    # Проверяю, что конец отпуска не выходит за рамки исследуемого периода\n",
    "    df.end = df.end.apply(lambda x: x if x <= date_to else date_to)\n",
    "    # Всего дней отпуска\n",
    "    df['days'] = df.end - df.start + timedelta(days=1)\n",
    "    df['work_days'] = df.apply(count_weekdays, axis=1)\n",
    "    return df"
   ]
  },
  {
   "cell_type": "code",
   "execution_count": 56,
   "id": "808c75f1",
   "metadata": {},
   "outputs": [],
   "source": [
    "def count_work_days(x):\n",
    "    \"\"\"\n",
    "    Определяет границы отпусков исключая ошибку двойного подсчета\n",
    "    Считает будние дни \n",
    "    x: Series or DataFrame\n",
    "    return: количество рабочих дней\n",
    "    \"\"\"\n",
    "    x = x.sort_values()\n",
    "    days = [x.iloc[0]]\n",
    "    for i in range(1, len(x)):\n",
    "        flag = 0\n",
    "        for day in days:\n",
    "            if day[0] <= x.iloc[i][0] and x.iloc[i][0] <= day[1] and  day[1] <= x.iloc[i][1]:\n",
    "                day[1] = x.iloc[i][1]\n",
    "                flag = 1\n",
    "            elif x.iloc[i][0] <= day[0] and  day[0] <= x.iloc[i][1] and  x.iloc[i][1] <= day[1]:\n",
    "                day[0] = x.iloc[i][0]\n",
    "                flag = 1\n",
    "            elif x.iloc[i][0] >= day[0] and  x.iloc[i][1] <= day[1]:\n",
    "                flag = 1\n",
    "        if flag == 0:\n",
    "            days.append(x.iloc[i])\n",
    "    work_days = 0\n",
    "    for day in days:\n",
    "        work_days += np.busday_count(day[0].date(), day[1].date() + timedelta(days=1))\n",
    "    return work_days\n",
    "            "
   ]
  },
  {
   "cell_type": "code",
   "execution_count": 57,
   "id": "29a25a66-165e-4de5-b4ca-f58007488fbe",
   "metadata": {},
   "outputs": [],
   "source": [
    "def ad_hoc_task():\n",
    "    \"\"\" \n",
    "    Считывает данные из эксель файла, \n",
    "    Исключает ненужные данные (по записям из файла conditions.txt)\n",
    "    Записывает конец отпуска на конец рассматриваемого промежутка, если отпуск заканчивается позже, чем рассматривемый период\n",
    "    Группирует данные и считает количество будних дней \n",
    "    \"\"\"\n",
    "    path = 'number_absences_working_days.xlsx'\n",
    "    path_conditions='conditions.txt'\n",
    "    df = read_process_data(path)\n",
    "    df = find_necessary_data(path_conditions, df)\n",
    "    df['start_end'] = df.apply(date_to_list, axis=1)  \n",
    "    result = df.groupby('id', as_index=False)\\\n",
    "        .agg({'start_end': count_work_days})\\\n",
    "        .sort_values('start_end', ascending=False)\\\n",
    "        .rename(columns={'id': 'Табельный номер', 'start_end': 'Количество отсуствий'})\n",
    "    result.to_excel('result.xlsx', index=False)\n",
    "    print(\"OK\")\n",
    "    return result, df"
   ]
  },
  {
   "cell_type": "code",
   "execution_count": 58,
   "id": "1ae39643-8c9d-45d3-90c6-fa7f4723e357",
   "metadata": {},
   "outputs": [
    {
     "name": "stderr",
     "output_type": "stream",
     "text": [
      "/var/folders/0m/1wzwyty959g5m50hvj1ddmk80000gp/T/ipykernel_46289/2638881683.py:21: SettingWithCopyWarning: \n",
      "A value is trying to be set on a copy of a slice from a DataFrame.\n",
      "Try using .loc[row_indexer,col_indexer] = value instead\n",
      "\n",
      "See the caveats in the documentation: https://pandas.pydata.org/pandas-docs/stable/user_guide/indexing.html#returning-a-view-versus-a-copy\n",
      "  df.end = df.end.apply(lambda x: x if x <= date_to else date_to)\n",
      "/var/folders/0m/1wzwyty959g5m50hvj1ddmk80000gp/T/ipykernel_46289/2638881683.py:23: SettingWithCopyWarning: \n",
      "A value is trying to be set on a copy of a slice from a DataFrame.\n",
      "Try using .loc[row_indexer,col_indexer] = value instead\n",
      "\n",
      "See the caveats in the documentation: https://pandas.pydata.org/pandas-docs/stable/user_guide/indexing.html#returning-a-view-versus-a-copy\n",
      "  df['days'] = df.end - df.start + timedelta(days=1)\n",
      "/var/folders/0m/1wzwyty959g5m50hvj1ddmk80000gp/T/ipykernel_46289/2638881683.py:24: SettingWithCopyWarning: \n",
      "A value is trying to be set on a copy of a slice from a DataFrame.\n",
      "Try using .loc[row_indexer,col_indexer] = value instead\n",
      "\n",
      "See the caveats in the documentation: https://pandas.pydata.org/pandas-docs/stable/user_guide/indexing.html#returning-a-view-versus-a-copy\n",
      "  df['work_days'] = df.apply(count_weekdays, axis=1)\n"
     ]
    },
    {
     "name": "stdout",
     "output_type": "stream",
     "text": [
      "OK\n"
     ]
    }
   ],
   "source": [
    "result, df = ad_hoc_task()"
   ]
  },
  {
   "cell_type": "code",
   "execution_count": 59,
   "id": "43394b6d-2fa7-49a9-9eb2-b7d3073ae60f",
   "metadata": {},
   "outputs": [
    {
     "data": {
      "text/html": [
       "<div>\n",
       "<style scoped>\n",
       "    .dataframe tbody tr th:only-of-type {\n",
       "        vertical-align: middle;\n",
       "    }\n",
       "\n",
       "    .dataframe tbody tr th {\n",
       "        vertical-align: top;\n",
       "    }\n",
       "\n",
       "    .dataframe thead th {\n",
       "        text-align: right;\n",
       "    }\n",
       "</style>\n",
       "<table border=\"1\" class=\"dataframe\">\n",
       "  <thead>\n",
       "    <tr style=\"text-align: right;\">\n",
       "      <th></th>\n",
       "      <th>Табельный номер</th>\n",
       "      <th>Количество отсуствий</th>\n",
       "    </tr>\n",
       "  </thead>\n",
       "  <tbody>\n",
       "    <tr>\n",
       "      <th>3871</th>\n",
       "      <td>3956</td>\n",
       "      <td>23</td>\n",
       "    </tr>\n",
       "    <tr>\n",
       "      <th>2259</th>\n",
       "      <td>2307</td>\n",
       "      <td>20</td>\n",
       "    </tr>\n",
       "    <tr>\n",
       "      <th>305</th>\n",
       "      <td>307</td>\n",
       "      <td>18</td>\n",
       "    </tr>\n",
       "    <tr>\n",
       "      <th>635</th>\n",
       "      <td>644</td>\n",
       "      <td>18</td>\n",
       "    </tr>\n",
       "    <tr>\n",
       "      <th>345</th>\n",
       "      <td>348</td>\n",
       "      <td>18</td>\n",
       "    </tr>\n",
       "  </tbody>\n",
       "</table>\n",
       "</div>"
      ],
      "text/plain": [
       "      Табельный номер  Количество отсуствий\n",
       "3871             3956                    23\n",
       "2259             2307                    20\n",
       "305               307                    18\n",
       "635               644                    18\n",
       "345               348                    18"
      ]
     },
     "execution_count": 59,
     "metadata": {},
     "output_type": "execute_result"
    }
   ],
   "source": [
    "result.head()"
   ]
  },
  {
   "cell_type": "code",
   "execution_count": null,
   "id": "0a230f41-1000-42f4-b8ab-81b48e91be64",
   "metadata": {},
   "outputs": [],
   "source": []
  }
 ],
 "metadata": {
  "kernelspec": {
   "display_name": "Python 3 (ipykernel)",
   "language": "python",
   "name": "python3"
  },
  "language_info": {
   "codemirror_mode": {
    "name": "ipython",
    "version": 3
   },
   "file_extension": ".py",
   "mimetype": "text/x-python",
   "name": "python",
   "nbconvert_exporter": "python",
   "pygments_lexer": "ipython3",
   "version": "3.11.6"
  }
 },
 "nbformat": 4,
 "nbformat_minor": 5
}
